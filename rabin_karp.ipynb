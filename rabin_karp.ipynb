{
 "cells": [
  {
   "cell_type": "code",
   "execution_count": 1,
   "id": "68ad26cb",
   "metadata": {},
   "outputs": [
    {
     "name": "stdout",
     "output_type": "stream",
     "text": [
      "Enter the text: kmppkmpkmpkmdkmpkmpk\n",
      "Enter the pattern to search: kmpkmdkmpkmpk\n",
      "Pattern found at index 7\n",
      "Total steps: 68\n"
     ]
    }
   ],
   "source": [
    "def char_value(c):\n",
    "    return ord(c.upper()) - ord('A') + 1\n",
    "def rabin_karp(text, pattern, d=26):\n",
    "    M = len(pattern)\n",
    "    N = len(text)\n",
    "    h = d ** (M - 1)\n",
    "    p = 0\n",
    "    t = 0\n",
    "    steps = 0\n",
    "    found = False\n",
    "    for i in range(M):\n",
    "        p = d * p + char_value(pattern[i])\n",
    "        t = d * t + char_value(text[i])\n",
    "        steps += 2\n",
    "    for i in range(N - M + 1):\n",
    "        steps += 1\n",
    "        if p == t:\n",
    "            match = True\n",
    "            for j in range(M):\n",
    "                steps += 1\n",
    "                if char_value(text[i + j]) != char_value(pattern[j]):\n",
    "                    match = False\n",
    "                    break\n",
    "            if match:\n",
    "                print(f\"Pattern found at index {i}\")\n",
    "                found = True\n",
    "        if i < N - M:\n",
    "            t = d * (t - char_value(text[i]) * h) + char_value(text[i + M])\n",
    "            steps += 3\n",
    "    if not found:\n",
    "        print(\"Pattern not found in the text.\")\n",
    "    print(f\"Total steps: {steps}\")\n",
    "text = input(\"Enter the text: \").strip()\n",
    "pattern = input(\"Enter the pattern to search: \").strip()\n",
    "rabin_karp(text, pattern)"
   ]
  },
  {
   "cell_type": "code",
   "execution_count": null,
   "id": "0a71e061",
   "metadata": {},
   "outputs": [],
   "source": []
  }
 ],
 "metadata": {
  "kernelspec": {
   "display_name": "Python 3 (ipykernel)",
   "language": "python",
   "name": "python3"
  },
  "language_info": {
   "codemirror_mode": {
    "name": "ipython",
    "version": 3
   },
   "file_extension": ".py",
   "mimetype": "text/x-python",
   "name": "python",
   "nbconvert_exporter": "python",
   "pygments_lexer": "ipython3",
   "version": "3.10.9"
  }
 },
 "nbformat": 4,
 "nbformat_minor": 5
}
