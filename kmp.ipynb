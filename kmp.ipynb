{
 "cells": [
  {
   "cell_type": "code",
   "execution_count": 4,
   "id": "1ba8a841",
   "metadata": {},
   "outputs": [
    {
     "name": "stdout",
     "output_type": "stream",
     "text": [
      "Enter the text: kmppkmpkmpkmdkmpkmpk\n",
      "Enter the pattern to search: kmpkmdkmpkmpk\n",
      "Pattern found at index 7\n",
      "Total steps: LPS construction = 14, Search phase = 20, Total = 34\n"
     ]
    }
   ],
   "source": [
    "def pi_table(pattern):\n",
    "    pi = [0] * len(pattern)\n",
    "    length = 0\n",
    "    i = 1\n",
    "    steps = 0\n",
    "    while i < len(pattern):\n",
    "        steps += 1\n",
    "        if pattern[i] == pattern[length]:\n",
    "            length += 1\n",
    "            pi[i] = length\n",
    "            i += 1\n",
    "        else:\n",
    "            if length != 0:\n",
    "                length = pi[length - 1]\n",
    "            else:\n",
    "                pi[i] = 0\n",
    "                i += 1\n",
    "    return pi, steps\n",
    "def kmp_search(text, pattern):\n",
    "    pi, pi_steps = pi_table(pattern)\n",
    "    i = j = 0\n",
    "    steps = 0\n",
    "    found = False\n",
    "    while i < len(text):\n",
    "        steps += 1\n",
    "        if pattern[j] == text[i]:\n",
    "            i += 1\n",
    "            j += 1\n",
    "        if j == len(pattern):\n",
    "            print(f\"Pattern found at index {i - j}\")\n",
    "            found = True\n",
    "            j = pi[j - 1]\n",
    "        elif i < len(text) and pattern[j] != text[i]:\n",
    "            if j != 0:\n",
    "                j = pi[j - 1]\n",
    "            else:\n",
    "                i += 1\n",
    "    if not found:\n",
    "        print(\"Pattern not found in the text.\")\n",
    "    print(f\"Total steps: LPS construction = {pi_steps}, Search phase = {steps}, Total = {pi_steps + steps}\")\n",
    "text = input(\"Enter the text: \").strip()\n",
    "pattern = input(\"Enter the pattern to search: \").strip()\n",
    "kmp_search(text, pattern)"
   ]
  },
  {
   "cell_type": "code",
   "execution_count": null,
   "id": "c9e829a3",
   "metadata": {},
   "outputs": [],
   "source": []
  }
 ],
 "metadata": {
  "kernelspec": {
   "display_name": "Python 3 (ipykernel)",
   "language": "python",
   "name": "python3"
  },
  "language_info": {
   "codemirror_mode": {
    "name": "ipython",
    "version": 3
   },
   "file_extension": ".py",
   "mimetype": "text/x-python",
   "name": "python",
   "nbconvert_exporter": "python",
   "pygments_lexer": "ipython3",
   "version": "3.10.9"
  }
 },
 "nbformat": 4,
 "nbformat_minor": 5
}
